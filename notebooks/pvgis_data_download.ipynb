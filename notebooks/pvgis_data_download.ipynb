{
 "cells": [
  {
   "cell_type": "markdown",
   "metadata": {},
   "source": [
    "# PVGIS Data Download and Exploration\n",
    "This notebook demonstrates how to download and explore meteorological data from the PVGIS (Photovoltaic Geographical Information System) API for the Sceaux, France station. The data includes hourly global horizontal irradiance (GHI) and temperature measurements, which are useful for solar forecasting research.\n",
    "\n",
    "**Note:** The file `EUPVGIS_sceaux_2006-2016.csv` distributed with this repository was originally downloaded using PVGIS API version 5.1, which is no longer available. The current code uses version 5.2 of the API, which may return data with slight differences."
   ]
  },
  {
   "cell_type": "code",
   "execution_count": 1,
   "metadata": {},
   "outputs": [],
   "source": [
    "import pandas as pd\n",
    "import urllib.parse"
   ]
  },
  {
   "cell_type": "code",
   "execution_count": 2,
   "metadata": {},
   "outputs": [],
   "source": [
    "pvgis_entrypoint = \"https://re.jrc.ec.europa.eu/api/v5_2/seriescalc?\"\n",
    "params = {\n",
    "    \"lat\": 48.779,\n",
    "    \"lon\": 2.288,\n",
    "    \"startyear\" : 2006,\n",
    "    \"endyear\" : 2016,\n",
    "    \"raddatabase\" : \"PVGIS-SARAH2\",\n",
    "    \"angle\" : 38,\n",
    "    \"aspect\" : -4\n",
    "}\n"
   ]
  },
  {
   "cell_type": "code",
   "execution_count": 3,
   "metadata": {},
   "outputs": [
    {
     "data": {
      "text/plain": [
       "'https://re.jrc.ec.europa.eu/api/v5_2/seriescalc?lat=48.779&lon=2.288&startyear=2006&endyear=2016&raddatabase=PVGIS-SARAH2&angle=38&aspect=-4'"
      ]
     },
     "execution_count": 3,
     "metadata": {},
     "output_type": "execute_result"
    }
   ],
   "source": [
    "url = pvgis_entrypoint + urllib.parse.urlencode(params)\n",
    "url"
   ]
  },
  {
   "cell_type": "code",
   "execution_count": 4,
   "metadata": {},
   "outputs": [],
   "source": [
    "pvgis_df = pd.read_csv(url, sep=\",\", skiprows=8,\n",
    "                              skipfooter=10, engine='python',\n",
    "                              date_format=\"%Y%m%d:%H%M\",\n",
    "                              parse_dates=True,\n",
    "                              index_col=0)\n"
   ]
  },
  {
   "cell_type": "code",
   "execution_count": 5,
   "metadata": {},
   "outputs": [
    {
     "data": {
      "text/html": [
       "<div>\n",
       "<style scoped>\n",
       "    .dataframe tbody tr th:only-of-type {\n",
       "        vertical-align: middle;\n",
       "    }\n",
       "\n",
       "    .dataframe tbody tr th {\n",
       "        vertical-align: top;\n",
       "    }\n",
       "\n",
       "    .dataframe thead th {\n",
       "        text-align: right;\n",
       "    }\n",
       "</style>\n",
       "<table border=\"1\" class=\"dataframe\">\n",
       "  <thead>\n",
       "    <tr style=\"text-align: right;\">\n",
       "      <th></th>\n",
       "      <th>G(i)</th>\n",
       "      <th>H_sun</th>\n",
       "      <th>T2m</th>\n",
       "      <th>WS10m</th>\n",
       "      <th>Int</th>\n",
       "    </tr>\n",
       "    <tr>\n",
       "      <th>time</th>\n",
       "      <th></th>\n",
       "      <th></th>\n",
       "      <th></th>\n",
       "      <th></th>\n",
       "      <th></th>\n",
       "    </tr>\n",
       "  </thead>\n",
       "  <tbody>\n",
       "    <tr>\n",
       "      <th>2006-01-01 00:10:00</th>\n",
       "      <td>0.0</td>\n",
       "      <td>0.0</td>\n",
       "      <td>3.39</td>\n",
       "      <td>4.28</td>\n",
       "      <td>0.0</td>\n",
       "    </tr>\n",
       "    <tr>\n",
       "      <th>2006-01-01 01:10:00</th>\n",
       "      <td>0.0</td>\n",
       "      <td>0.0</td>\n",
       "      <td>2.93</td>\n",
       "      <td>4.21</td>\n",
       "      <td>0.0</td>\n",
       "    </tr>\n",
       "    <tr>\n",
       "      <th>2006-01-01 02:10:00</th>\n",
       "      <td>0.0</td>\n",
       "      <td>0.0</td>\n",
       "      <td>2.65</td>\n",
       "      <td>4.28</td>\n",
       "      <td>0.0</td>\n",
       "    </tr>\n",
       "    <tr>\n",
       "      <th>2006-01-01 03:10:00</th>\n",
       "      <td>0.0</td>\n",
       "      <td>0.0</td>\n",
       "      <td>2.49</td>\n",
       "      <td>4.28</td>\n",
       "      <td>0.0</td>\n",
       "    </tr>\n",
       "    <tr>\n",
       "      <th>2006-01-01 04:10:00</th>\n",
       "      <td>0.0</td>\n",
       "      <td>0.0</td>\n",
       "      <td>2.12</td>\n",
       "      <td>4.21</td>\n",
       "      <td>0.0</td>\n",
       "    </tr>\n",
       "  </tbody>\n",
       "</table>\n",
       "</div>"
      ],
      "text/plain": [
       "                     G(i)  H_sun   T2m  WS10m  Int\n",
       "time                                              \n",
       "2006-01-01 00:10:00   0.0    0.0  3.39   4.28  0.0\n",
       "2006-01-01 01:10:00   0.0    0.0  2.93   4.21  0.0\n",
       "2006-01-01 02:10:00   0.0    0.0  2.65   4.28  0.0\n",
       "2006-01-01 03:10:00   0.0    0.0  2.49   4.28  0.0\n",
       "2006-01-01 04:10:00   0.0    0.0  2.12   4.21  0.0"
      ]
     },
     "execution_count": 5,
     "metadata": {},
     "output_type": "execute_result"
    }
   ],
   "source": [
    "pvgis_df.head()"
   ]
  },
  {
   "cell_type": "code",
   "execution_count": null,
   "metadata": {},
   "outputs": [],
   "source": []
  }
 ],
 "metadata": {
  "kernelspec": {
   "display_name": "lstm_pv_forecasting-58e6vDaT",
   "language": "python",
   "name": "python3"
  },
  "language_info": {
   "codemirror_mode": {
    "name": "ipython",
    "version": 3
   },
   "file_extension": ".py",
   "mimetype": "text/x-python",
   "name": "python",
   "nbconvert_exporter": "python",
   "pygments_lexer": "ipython3",
   "version": "3.12.1"
  },
  "orig_nbformat": 4
 },
 "nbformat": 4,
 "nbformat_minor": 2
}
